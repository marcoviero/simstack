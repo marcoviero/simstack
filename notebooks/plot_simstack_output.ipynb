{
 "cells": [
  {
   "cell_type": "code",
   "execution_count": 1,
   "metadata": {},
   "outputs": [],
   "source": [
    "import pdb\n",
    "import numpy as np\n",
    "import pandas as pd\n",
    "import os\n",
    "import pylab as plt\n",
    "from utils import clean_args\n",
    "from utils import clean_nans\n",
    "from utils import fast_sed\n",
    "from utils import fast_sed_fitter\n",
    "from utils import fast_Lir\n",
    "from utils import stagger_x\n",
    "from utils import subset_averages_from_ids\n",
    "from utils import main_sequence_s15\n",
    "from skymaps import Field_catalogs\n",
    "from astropy.cosmology import Planck15 as cosmo\n",
    "import astropy.units as u\n",
    "try:\n",
    "    from simstack import PickledStacksReader, measure_cib\n",
    "except:\n",
    "    from simstack.simstack import PickledStacksReader, measure_cib\n",
    "\n",
    "%matplotlib inline  "
   ]
  },
  {
   "cell_type": "code",
   "execution_count": 2,
   "metadata": {
    "collapsed": true
   },
   "outputs": [],
   "source": [
    "conv_luv_to_sfr = 2.17e-10\n",
    "conv_lir_to_sfr = 1.72e-10\n",
    "L_sun = 3.839e26 # W\n",
    "c = 299792458.0 # m/s\n",
    "a_nu_flux_to_mass = 6.7e19\n",
    "h = 6.62607004e-34 #m2 kg / s  #4.13e-15 #eV/s\n",
    "k = 1.38064852e-23 #m2 kg s-2 K-1 8.617e-5 #eV/K"
   ]
  },
  {
   "cell_type": "code",
   "execution_count": 3,
   "metadata": {
    "collapsed": true
   },
   "outputs": [],
   "source": [
    "popcolor=['red','blue','green','orange','black','grey','chocolate','darkviolet','pink','magenta','dodgerblue','lavender','blue','red','green','orange','black','grey','chocolate','darkviolet','pink','magenta','dodgerblue','lavender']"
   ]
  },
  {
   "cell_type": "code",
   "execution_count": 4,
   "metadata": {
    "collapsed": true
   },
   "outputs": [],
   "source": [
    "path_pickles = os.environ['PICKLESPATH']\n",
    "path_maps    = os.environ['MAPSPATH']\n",
    "path_catalogs= os.environ['CATSPATH']"
   ]
  },
  {
   "cell_type": "code",
   "execution_count": 5,
   "metadata": {},
   "outputs": [
    {
     "name": "stdout",
     "output_type": "stream",
     "text": [
      "/data/pickles//simstack/stacked_flux_densities/simstack_fluxes/uVista_Laigle_v1.1__2pop__7bands__s15_bins_in_slices/uvista__DR2__2pop__7_maps_s15_binning.cfg\n"
     ]
    }
   ],
   "source": [
    "#Location of the stacked parameter file\n",
    "shortname = 'uVista_Laigle_v1.1__2pop__7bands__s15_bins_in_slices'\n",
    "path_config = path_pickles + '/simstack/stacked_flux_densities/simstack_fluxes/'+shortname+'/'\n",
    "file_config = 'uvista__DR2__2pop__7_maps_s15_binning.cfg'\n",
    "if os.path.exists(path_config+file_config) == True:\n",
    "    print path_config+file_config"
   ]
  },
  {
   "cell_type": "code",
   "execution_count": 6,
   "metadata": {},
   "outputs": [
    {
     "name": "stdout",
     "output_type": "stream",
     "text": [
      "sf\n",
      "red\n"
     ]
    }
   ],
   "source": [
    "#PickledStacksReader will look at the config file defined in previous cell to determine if bootstrap or not, and read and organize it \n",
    "stacked_flux_densities = PickledStacksReader(path_config,file_config)"
   ]
  },
  {
   "cell_type": "code",
   "execution_count": 7,
   "metadata": {},
   "outputs": [
    {
     "name": "stdout",
     "output_type": "stream",
     "text": [
      "['__doc__', '__init__', '__module__', 'bin_ids', 'config_file', 'fqs', 'get_error_bar_dictionary', 'get_parameters', 'ind', 'is_bootstrap', 'm_keys', 'm_nodes', 'm_z_key_builder', 'maps', 'ndec', 'nm', 'npops', 'nw', 'nz', 'params', 'path', 'pops', 'read_pickles', 'simstack_error_array', 'simstack_flux_array', 'simstack_nuInu_array', 'slice_key_builder', 'wvs', 'z_keys', 'z_nodes']\n"
     ]
    }
   ],
   "source": [
    "#Instance of PickledStacksReader class contains the following \n",
    "print dir(stacked_flux_densities)"
   ]
  },
  {
   "cell_type": "code",
   "execution_count": 8,
   "metadata": {},
   "outputs": [
    {
     "name": "stdout",
     "output_type": "stream",
     "text": [
      "['cosmo', 'noise_files', 'catalogs', 'save_bin_ids', 'populations', 'color_correction', 'bootstrap', 'boot0', 'perturb_z', 'number_of_boots', 'library_keys', 'bins', 'io', 'wavelength', 'psfs', 'galaxy_splitting_scheme', 'map_files']\n"
     ]
    }
   ],
   "source": [
    "#For example, params contains:\n",
    "print stacked_flux_densities.params.keys()"
   ]
  },
  {
   "cell_type": "code",
   "execution_count": 9,
   "metadata": {},
   "outputs": [
    {
     "data": {
      "text/plain": [
       "{'bin_in_lookback_time': False,\n",
       " 'bin_in_number_density': False,\n",
       " 'm_nodes': [9.5, 10.0, 10.5, 11.0, 11.5],\n",
       " 'optimal_binning': False,\n",
       " 'stack_all_z_at_once': False,\n",
       " 't_nodes': [0.3, 0.7, 1.2, 1.8, 2.5, 3.5, 5.0],\n",
       " 'z_nodes': [0.3, 0.7, 1.2, 1.8, 2.5, 3.5, 5.0]}"
      ]
     },
     "execution_count": 9,
     "metadata": {},
     "output_type": "execute_result"
    }
   ],
   "source": [
    "#And the params['bins'] key contains:\n",
    "stacked_flux_densities.params['bins']"
   ]
  },
  {
   "cell_type": "code",
   "execution_count": 10,
   "metadata": {},
   "outputs": [
    {
     "name": "stdout",
     "output_type": "stream",
     "text": [
      "defaulting to uVista/COSMOS area of 1.62deg2\n"
     ]
    },
    {
     "data": {
      "text/plain": [
       "array([ 1.58966796,  5.01373351,  6.73677512,  7.04892813,  4.47023368,\n",
       "        1.87612044,  0.18977072])"
      ]
     },
     "execution_count": 10,
     "metadata": {},
     "output_type": "execute_result"
    }
   ],
   "source": [
    "#simstack contains a function to estimate the total CIB of the objects in the stacked_flux_densities object.  area_deg defaults to COSMOS, which is 1.62deg2\n",
    "measure_cib(stacked_flux_densities,tcib = True, area_deg= 1.62)"
   ]
  },
  {
   "cell_type": "code",
   "execution_count": null,
   "metadata": {
    "collapsed": true
   },
   "outputs": [],
   "source": []
  },
  {
   "cell_type": "code",
   "execution_count": 11,
   "metadata": {},
   "outputs": [
    {
     "name": "stdout",
     "output_type": "stream",
     "text": [
      "/data/pickles/simstack/stacked_flux_densities/bootstrapped_fluxes/uVista_Laigle_v1.1__2pop__7bands__s15_bins_in_slices/uvista__DR2__2pop__7_maps_s15_binning.cfg\n"
     ]
    }
   ],
   "source": [
    "#Location of the bootstrap parameter file\n",
    "shortname = 'uVista_Laigle_v1.1__2pop__7bands__s15_bins_in_slices'\n",
    "path_config = path_pickles + 'simstack/stacked_flux_densities/bootstrapped_fluxes/'+shortname+'/'\n",
    "file_config = 'uvista__DR2__2pop__7_maps_s15_binning.cfg' \n",
    "if os.path.exists(path_config+file_config) == True:\n",
    "    print path_config+file_config"
   ]
  },
  {
   "cell_type": "code",
   "execution_count": 12,
   "metadata": {},
   "outputs": [
    {
     "name": "stdout",
     "output_type": "stream",
     "text": [
      "sf\n",
      "red\n"
     ]
    }
   ],
   "source": [
    "#Here PickledStacksReader is pointed to bootstraps, which it reads, estimates the variance, and stores.  \n",
    "boot_errs = PickledStacksReader(path_config,file_config)"
   ]
  },
  {
   "cell_type": "code",
   "execution_count": 13,
   "metadata": {},
   "outputs": [
    {
     "name": "stdout",
     "output_type": "stream",
     "text": [
      "(7, 6, 4, 2, 10)\n",
      "(7, 6, 4, 2)\n"
     ]
    }
   ],
   "source": [
    "print np.shape(boot_errs.bootstrap_flux_array)\n",
    "print np.shape(boot_errs.boot_error_bars)"
   ]
  },
  {
   "cell_type": "code",
   "execution_count": 14,
   "metadata": {},
   "outputs": [
    {
     "data": {
      "text/plain": [
       "{'bin_in_lookback_time': False,\n",
       " 'bin_in_number_density': False,\n",
       " 'm_nodes': [9.5, 10.0, 10.5, 11.0, 11.5],\n",
       " 'optimal_binning': False,\n",
       " 'stack_all_z_at_once': False,\n",
       " 't_nodes': [0.3, 0.7, 1.2, 1.8, 2.5, 3.5, 5.0],\n",
       " 'z_nodes': [0.3, 0.7, 1.2, 1.8, 2.5, 3.5, 5.0]}"
      ]
     },
     "execution_count": 14,
     "metadata": {},
     "output_type": "execute_result"
    }
   ],
   "source": [
    "boot_errs.params['bins']"
   ]
  },
  {
   "cell_type": "code",
   "execution_count": 15,
   "metadata": {},
   "outputs": [
    {
     "name": "stdout",
     "output_type": "stream",
     "text": [
      "[0.3, 0.7, 1.2, 1.8, 2.5, 3.5, 5.0]\n",
      "10.0\n"
     ]
    }
   ],
   "source": [
    "print boot_errs.params['bins']['z_nodes']\n",
    "print boot_errs.params['number_of_boots']"
   ]
  },
  {
   "cell_type": "code",
   "execution_count": null,
   "metadata": {
    "collapsed": true
   },
   "outputs": [],
   "source": []
  },
  {
   "cell_type": "code",
   "execution_count": 16,
   "metadata": {},
   "outputs": [],
   "source": [
    "wvs = stacked_flux_densities.wvs\n",
    "m_nodes = np.array(stacked_flux_densities.m_nodes)\n",
    "z_nodes = np.array(stacked_flux_densities.z_nodes)\n",
    "z_mid = (z_nodes[1:]+z_nodes[:-1])/2.\n",
    "m_mid = (m_nodes[1:]+m_nodes[:-1])/2.\n",
    "nwv = len(wvs)\n",
    "nz = stacked_flux_densities.nz\n",
    "nm = stacked_flux_densities.nm\n",
    "npop =  stacked_flux_densities.npops\n",
    "pop = stacked_flux_densities.pops\n",
    "all_stacked_fluxes = stacked_flux_densities.simstack_flux_array\n",
    "boot_norm = clean_nans(np.mean(boot_errs.bootstrap_flux_array,axis=4)/stacked_flux_densities.simstack_flux_array)\n",
    "all_stacked_errors = np.sqrt(boot_errs.boot_error_bars**2 + stacked_flux_densities.simstack_error_array**2)\n",
    "bootstrap_means = np.mean(boot_errs.bootstrap_flux_array,axis=4)"
   ]
  },
  {
   "cell_type": "code",
   "execution_count": null,
   "metadata": {},
   "outputs": [],
   "source": [
    "catalog_used = stacked_flux_densities.params['catalogs']['catalog_path']+stacked_flux_densities.params['catalogs']['catalog_file']"
   ]
  },
  {
   "cell_type": "code",
   "execution_count": null,
   "metadata": {
    "collapsed": true
   },
   "outputs": [],
   "source": [
    "tbl = pd.read_table(catalog_used,sep=',')\n",
    "#uVista = Field_catalogs(tbl)\n",
    "#uVista.separate_sf_qt()"
   ]
  },
  {
   "cell_type": "code",
   "execution_count": null,
   "metadata": {},
   "outputs": [],
   "source": [
    "tbl.keys()"
   ]
  },
  {
   "cell_type": "code",
   "execution_count": null,
   "metadata": {
    "scrolled": false
   },
   "outputs": [],
   "source": [
    "#Plot stacked results Flux vs Z, M, SF/QT\n",
    "stagger_z = stagger_x(z_mid, nm, wid=0.025, log=True)\n",
    "wv_mod = np.linspace(20,1000,100)\n",
    "\n",
    "for iwv in range(nwv):\n",
    "    wv = wvs[iwv]\n",
    "    plt.figure(figsize=(9,6))\n",
    "    plt.title(str(int(wv))+' um')\n",
    "    plt.yscale('log')\n",
    "    #plt.xscale('log')\n",
    "    plt.xlim([0.0,4.5])\n",
    "    plt.ylabel('Flux Density [mJy]',fontsize=14)\n",
    "    plt.xlabel('Redshift',fontsize=14)\n",
    "    \n",
    "    for k in range(npop)[:]:\n",
    "        for j in range(nm)[::-1]: \n",
    "            mn = m_nodes[j:j+2]\n",
    "\n",
    "            xplot= [z[j] for z in stagger_z]\n",
    "            plt.plot(z_mid,1e3*stacked_flux_densities.simstack_flux_array[iwv,:,j,k],'o',color=popcolor[k],label=pop[k]+':,M='+str(mn[0])+'-'+str(mn[1]),markersize=2.4*(j+1))\n",
    "            plt.plot(z_mid,1e3*stacked_flux_densities.simstack_flux_array[iwv,:,j,k],color=popcolor[k],linewidth=0.75*(j+1))\n",
    "            \n",
    "            plt.errorbar(z_mid,1e3*stacked_flux_densities.simstack_flux_array[iwv,:,j,k],yerr=1e3*np.sqrt(stacked_flux_densities.simstack_error_array[iwv,:,j,k]**2+boot_errs.boot_error_bars[iwv,:,j,k]**2),fmt=None,ecolor=popcolor[k],elinewidth=3)\n",
    "            plt.errorbar(z_mid,1e3*stacked_flux_densities.simstack_flux_array[iwv,:,j,k],yerr=1e3*boot_errs.boot_error_bars[iwv,:,j,k],fmt=None,ecolor='black',elinewidth=2)#,marker='o',markersize=12)\n",
    "        plt.legend()\n",
    "                \n",
    "    plt.show()"
   ]
  },
  {
   "cell_type": "code",
   "execution_count": null,
   "metadata": {
    "scrolled": false
   },
   "outputs": [],
   "source": [
    "#Plot stacked results Flux vs Z, M, SF/QT\n",
    "stagger_wvs = stagger_x(wvs, nm, wid=0.025, log=True) # a handy function to avoid overlapping error bars\n",
    "wv_mod = np.linspace(20,1000,100)\n",
    "for iz in range(nz):\n",
    "    zn = z_nodes[iz:iz+2]\n",
    "    z_suf = '{:.2f}'.format(zn[0])+'-'+'{:.2f}'.format(zn[1])\n",
    "\n",
    "    plt.figure(figsize=(11,7))\n",
    "    plt.title('z =' +'{:.2f}'.format(zn[0])+'-'+'{:.2f}'.format(zn[1]))\n",
    "    plt.yscale('log',fontsize=20)\n",
    "    plt.xscale('log',fontsize=20)\n",
    "    plt.ylim([1e-2,9e1])\n",
    "    plt.xlim([10,1000])\n",
    "    plt.ylabel('Flux Density [mJy]',fontsize=20)\n",
    "    plt.xlabel('Wavelength [microns]',fontsize=20)\n",
    "    for k in range(npop):\n",
    "        for j in range(nm)[::-1]: \n",
    "            mn = m_nodes[j:j+2]\n",
    "            m_suf = '{:.2f}'.format(mn[0])+'-'+'{:.2f}'.format(mn[1])\n",
    "\n",
    "            # Number of galaxies in each bin is estimated by looking up the bin_ids of all the objects in the bin\n",
    "            # key is the identifier for each bin (in redshift, stellar mass, and population name)\n",
    "            key = clean_args('z_'+z_suf+'__m_'+m_suf+'_'+pop[k])\n",
    "            ngal_bin = len(stacked_flux_densities.bin_ids[key])\n",
    "\n",
    "            if ngal_bin > 0:\n",
    "                flux_wv = (all_stacked_fluxes[:,iz,j,k])\n",
    "                flux_err= all_stacked_errors[:,iz,j,k]\n",
    "                m = fast_sed_fitter(np.array(wvs),flux_wv,covar=flux_err)\n",
    "                LIR = fast_Lir(m, np.mean(zn))\n",
    "                ymod = fast_sed(m,wv_mod)\n",
    "                xplot= [wv[j] for wv in stagger_wvs]\n",
    "                plt.plot(xplot,1e3*flux_wv,'o',color=popcolor[k],label=[str(ngal_bin)+' '+pop[k],str((m_nodes[j]+m_nodes[j+1])/2.0)],markersize=2*(j+1))\n",
    "                plt.plot(wv_mod,1e3*ymod[0],color=popcolor[k],linewidth=j)#,label=str((1.0+z_mid[iz])*m['T_observed'].value))\n",
    "                plt.errorbar(xplot,1e3*flux_wv,yerr=1e3*flux_err,fmt=None,ecolor=popcolor[k],elinewidth=3)#,marker='o',markersize=12)\n",
    "    plt.legend()\n",
    "                \n",
    "    plt.show()"
   ]
  },
  {
   "cell_type": "code",
   "execution_count": null,
   "metadata": {
    "collapsed": true
   },
   "outputs": [],
   "source": []
  }
 ],
 "metadata": {
  "kernelspec": {
   "display_name": "Python 2",
   "language": "python",
   "name": "python2"
  },
  "language_info": {
   "codemirror_mode": {
    "name": "ipython",
    "version": 2
   },
   "file_extension": ".py",
   "mimetype": "text/x-python",
   "name": "python",
   "nbconvert_exporter": "python",
   "pygments_lexer": "ipython2",
   "version": "2.7.13"
  }
 },
 "nbformat": 4,
 "nbformat_minor": 2
}
