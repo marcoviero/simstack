{
 "cells": [
  {
   "cell_type": "code",
   "execution_count": 3,
   "metadata": {
    "collapsed": false
   },
   "outputs": [],
   "source": [
    "import pdb\n",
    "import numpy as np\n",
    "import pandas as pd\n",
    "import os\n",
    "import math\n",
    "import matplotlib.pyplot as plt\n",
    "import pylab as plt\n",
    "from astropy.wcs import WCS\n",
    "from astropy.io import fits\n",
    "import readcol\n",
    "from utils import fast_sed_fitter\n",
    "from utils import fast_double_sed_fitter\n",
    "from utils import fast_Lir\n",
    "from utils import fast_double_Lir\n",
    "from utils import L_fun\n",
    "from utils import L_fit\n",
    "from utils import T_fun\n",
    "from utils import T_fit\n",
    "from utils import shift_twod\n",
    "from utils import dist_idl\n",
    "from utils import loggen\n",
    "from utils import gauss_kern\n",
    "from lmfit import Parameters, minimize, fit_report\n",
    "from simstack import stack_libraries_in_redshift_slices\n",
    "from skymaps import Skymaps\n",
    "from skymaps import Field_catalogs\n",
    "\n",
    "%matplotlib inline  "
   ]
  },
  {
   "cell_type": "code",
   "execution_count": 4,
   "metadata": {
    "collapsed": true
   },
   "outputs": [],
   "source": [
    "popcolor=['blue','red','green','orange','black','grey','chocolate','darkviolet','pink',\n",
    "          'magenta','dodgerblue','lavender','blue','red','green','orange','black','grey',\n",
    "          'chocolate','darkviolet','pink','magenta','dodgerblue','lavender']"
   ]
  },
  {
   "cell_type": "code",
   "execution_count": 5,
   "metadata": {
    "collapsed": true
   },
   "outputs": [],
   "source": [
    "conv_sfr = 1.728e-10 / 10**(.23)"
   ]
  },
  {
   "cell_type": "code",
   "execution_count": 6,
   "metadata": {
    "collapsed": false
   },
   "outputs": [],
   "source": [
    "#Define Redshift Bins\n",
    "z_lo = np.array([0.0,0.5,1.0,1.5,2.0,2.5,3.0,3.5])\n",
    "z_hi = np.array([0.5,1.0,1.5,2.0,2.5,3.0,3.5,4.0])\n",
    "z_nodes = np.array([0.5,1.0,1.5,2.0,2.5,3.0,3.5,4.0])\n",
    "z_mid = (z_nodes[:-1] + z_nodes[1:])/2\n",
    "nz = len(z_nodes) - 1"
   ]
  },
  {
   "cell_type": "code",
   "execution_count": 7,
   "metadata": {
    "collapsed": true
   },
   "outputs": [],
   "source": [
    "#Define Stellar Mass Bins\n",
    "m_lo = np.array([8.5, 9.5,10.0,10.5,11.0])\n",
    "m_hi = np.array([9.5,10.0,10.5,11.0,13.0])\n",
    "m_nodes = np.array([8.5, 9.5,10.0,10.5,11.0,13.0])\n",
    "m_mid = (m_nodes[:-1] + m_nodes[1:])/2\n",
    "nm = len(m_nodes) - 1"
   ]
  },
  {
   "cell_type": "code",
   "execution_count": 8,
   "metadata": {
    "collapsed": true
   },
   "outputs": [],
   "source": [
    "#Decide which Maps to include\n",
    "wv0 = np.array([1,1,1,1,1,1,1,1,1]) # This includes all maps\n",
    "wv0 = np.array([0,0,1,1,1,0,1,1,0]) # \n",
    "wv0 = np.array([0,0,1,1,1,0,1,1,1]) # \n",
    "indstack = np.where(wv0 == 1)"
   ]
  },
  {
   "cell_type": "markdown",
   "metadata": {},
   "source": [
    "# Need to Edit next panel for your own use \n",
    "### Look for Maps below in www.astro.caltech.edu/viero/Jason/cosmos/"
   ]
  },
  {
   "cell_type": "code",
   "execution_count": 9,
   "metadata": {
    "collapsed": true
   },
   "outputs": [],
   "source": [
    "## Map Directories \n",
    "\n",
    "dir_spitzer_maps = '/home/agn/viero/Jason/cosmos/'\n",
    "dir_spire_maps = '/home/agn/viero/Jason/cosmos/'\n",
    "dir_pacs_maps = '/home/agn/viero/Jason/cosmos/'\n",
    "dir_scuba_maps = '/home/agn/viero/Jason/cosmos/'\n",
    "dir_aztec_maps = '/home/agn/viero/Jason/cosmos/'\n",
    "dir_aztec_maps = '/home/agn/viero/Jason/cosmos/'\n",
    "\n",
    "## Dictionary Names\n",
    "library_keys =['mips24'\n",
    "               ,'pacs_green'\n",
    "               ,'pacs_red'\n",
    "               ,'spire_PSW'\n",
    "               ,'spire_PMW'\n",
    "               ,'scuba_450'\n",
    "               ,'spire_PLW'\n",
    "               ,'scuba_850'\n",
    "               ,'aztec'\n",
    "              ]\n",
    "\n",
    "wavelength=[24.,100,160,250,350,450,500,850,1100]\n",
    "nwv = np.sum(wv0) \n",
    "fwhm =[6.32,7.4, 11.3,18.1, 25.2,7., 36.6,15.,18.]\n",
    "efwhm=[6.32,6.7, 11.2,17.6, 23.9,7.8, 35.2,14.5,18.] # want to the measured effective FWHM later\n",
    "color_correction=[1.25,23.58,23.82,1.018,0.9914,1e-3,0.95615,1e-3,1.0]\n",
    "beam_area = [1.55e-09,1.,1.,1.,1.,1.62e-09,1.,5.6e-09,1.] #sr\n",
    "beam_area = [1.55e-09,1.,1.,1.,1.,1.,1.,1.,1.] #sr\n",
    "\n",
    "pixsize_suffix = '6.0_arcsec_pixels'\n",
    "\n",
    "maps = [dir_spitzer_maps+'mips_24_GO3_sci_10.cutout.fits' \n",
    "        ,dir_pacs_maps+'pep_COSMOS_green_Map.DR1.sci.cutout.fits'\n",
    "        ,dir_pacs_maps+'pep_COSMOS_red_Map.DR1.sci.cutout.fits'\n",
    "        ,dir_spire_maps+'cosmos-uvista-hipe12_itermap_10_iterations_'+pixsize_suffix+'_PSW.signal.cutout.fits'\n",
    "        ,dir_spire_maps+'cosmos-uvista-hipe12_itermap_10_iterations_'+pixsize_suffix+'_PMW.signal.cutout.fits'\n",
    "        ,dir_scuba_maps+'map450_new_header.cutout.fits'\n",
    "        ,dir_spire_maps+'cosmos-uvista-hipe12_itermap_10_iterations_'+pixsize_suffix+'_PLW.signal.cutout.fits'\n",
    "        ,dir_scuba_maps+'map850_new_header.cutout.fits'\n",
    "        ,dir_aztec_maps+'cosmos_jcmt_kscott20100925_new_header_6.0_arcsec_pixels_map.fits'\n",
    "       ]\n",
    "noises = [dir_spitzer_maps+'mips_24_GO3_unc_10.cutout.fits' \n",
    "        ,dir_pacs_maps+'pep_COSMOS_green_Map.DR1.err.cutout.fits'\n",
    "        ,dir_pacs_maps+'pep_COSMOS_red_Map.DR1.err.cutout.fits'\n",
    "        ,dir_spire_maps+'cosmos-uvista-hipe12_itermap_10_iterations_'+pixsize_suffix+'_PSW.noise.cutout.fits'\n",
    "        ,dir_spire_maps+'cosmos-uvista-hipe12_itermap_10_iterations_'+pixsize_suffix+'_PMW.noise.cutout.fits'\n",
    "        ,dir_scuba_maps+'map450_new_header_rms.cutout.fits'\n",
    "        ,dir_spire_maps+'cosmos-uvista-hipe12_itermap_10_iterations_'+pixsize_suffix+'_PLW.noise.cutout.fits'\n",
    "        ,dir_scuba_maps+'map850_new_header_rms.cutout.fits'\n",
    "        ,dir_aztec_maps+'cosmos_jcmt_kscott20100925_new_header_6.0_arcsec_pixels_noise.fits'\n",
    "       ]"
   ]
  },
  {
   "cell_type": "markdown",
   "metadata": {},
   "source": [
    "# Reading Maps into Objects, and Objects into Dictionaries"
   ]
  },
  {
   "cell_type": "code",
   "execution_count": null,
   "metadata": {
    "collapsed": true
   },
   "outputs": [],
   "source": []
  },
  {
   "cell_type": "code",
   "execution_count": 10,
   "metadata": {
    "collapsed": false,
    "scrolled": true
   },
   "outputs": [
    {
     "ename": "IOError",
     "evalue": "[Errno 2] No such file or directory: '/home/agn/viero/Jason/cosmos/pep_COSMOS_red_Map.DR1.sci.cutout.fits'",
     "output_type": "error",
     "traceback": [
      "\u001b[0;31m---------------------------------------------------------------------------\u001b[0m",
      "\u001b[0;31mIOError\u001b[0m                                   Traceback (most recent call last)",
      "\u001b[0;32m<ipython-input-10-c882a52f6e37>\u001b[0m in \u001b[0;36m<module>\u001b[0;34m()\u001b[0m\n\u001b[1;32m      2\u001b[0m \u001b[0;34m\u001b[0m\u001b[0m\n\u001b[1;32m      3\u001b[0m \u001b[0;32mfor\u001b[0m \u001b[0mt\u001b[0m \u001b[0;32min\u001b[0m \u001b[0mindstack\u001b[0m\u001b[0;34m[\u001b[0m\u001b[0;36m0\u001b[0m\u001b[0;34m]\u001b[0m\u001b[0;34m:\u001b[0m\u001b[0;34m\u001b[0m\u001b[0m\n\u001b[0;32m----> 4\u001b[0;31m     \u001b[0msky_library\u001b[0m\u001b[0;34m[\u001b[0m\u001b[0mlibrary_keys\u001b[0m\u001b[0;34m[\u001b[0m\u001b[0mt\u001b[0m\u001b[0;34m]\u001b[0m\u001b[0;34m]\u001b[0m \u001b[0;34m=\u001b[0m \u001b[0mSkymaps\u001b[0m\u001b[0;34m(\u001b[0m\u001b[0mmaps\u001b[0m\u001b[0;34m[\u001b[0m\u001b[0mt\u001b[0m\u001b[0;34m]\u001b[0m\u001b[0;34m,\u001b[0m\u001b[0mnoises\u001b[0m\u001b[0;34m[\u001b[0m\u001b[0mt\u001b[0m\u001b[0;34m]\u001b[0m\u001b[0;34m,\u001b[0m\u001b[0mefwhm\u001b[0m\u001b[0;34m[\u001b[0m\u001b[0mt\u001b[0m\u001b[0;34m]\u001b[0m\u001b[0;34m,\u001b[0m\u001b[0mcolor_correction\u001b[0m\u001b[0;34m=\u001b[0m\u001b[0mcolor_correction\u001b[0m\u001b[0;34m[\u001b[0m\u001b[0mt\u001b[0m\u001b[0;34m]\u001b[0m\u001b[0;34m)\u001b[0m\u001b[0;34m\u001b[0m\u001b[0m\n\u001b[0m\u001b[1;32m      5\u001b[0m     \u001b[0msky_library\u001b[0m\u001b[0;34m[\u001b[0m\u001b[0mlibrary_keys\u001b[0m\u001b[0;34m[\u001b[0m\u001b[0mt\u001b[0m\u001b[0;34m]\u001b[0m\u001b[0;34m]\u001b[0m\u001b[0;34m.\u001b[0m\u001b[0madd_wavelength\u001b[0m\u001b[0;34m(\u001b[0m\u001b[0mwavelength\u001b[0m\u001b[0;34m[\u001b[0m\u001b[0mt\u001b[0m\u001b[0;34m]\u001b[0m\u001b[0;34m)\u001b[0m\u001b[0;34m\u001b[0m\u001b[0m\n\u001b[1;32m      6\u001b[0m     \u001b[0msky_library\u001b[0m\u001b[0;34m[\u001b[0m\u001b[0mlibrary_keys\u001b[0m\u001b[0;34m[\u001b[0m\u001b[0mt\u001b[0m\u001b[0;34m]\u001b[0m\u001b[0;34m]\u001b[0m\u001b[0;34m.\u001b[0m\u001b[0madd_fwhm\u001b[0m\u001b[0;34m(\u001b[0m\u001b[0mefwhm\u001b[0m\u001b[0;34m[\u001b[0m\u001b[0mt\u001b[0m\u001b[0;34m]\u001b[0m\u001b[0;34m)\u001b[0m\u001b[0;34m\u001b[0m\u001b[0m\n",
      "\u001b[0;32m/home/marcoviero/Code/Python/Modules/Utils/skymaps.py\u001b[0m in \u001b[0;36m__init__\u001b[0;34m(self, file_map, file_noise, psf, color_correction)\u001b[0m\n\u001b[1;32m     31\u001b[0m                 \u001b[0;32melse\u001b[0m\u001b[0;34m:\u001b[0m\u001b[0;34m\u001b[0m\u001b[0m\n\u001b[1;32m     32\u001b[0m                         \u001b[0;31m#This assumes that if Signal and Noise are different maps, they are contained in first extension\u001b[0m\u001b[0;34m\u001b[0m\u001b[0;34m\u001b[0m\u001b[0m\n\u001b[0;32m---> 33\u001b[0;31m                         \u001b[0mcmap\u001b[0m\u001b[0;34m,\u001b[0m \u001b[0mhd\u001b[0m \u001b[0;34m=\u001b[0m \u001b[0mfits\u001b[0m\u001b[0;34m.\u001b[0m\u001b[0mgetdata\u001b[0m\u001b[0;34m(\u001b[0m\u001b[0mfile_map\u001b[0m\u001b[0;34m,\u001b[0m \u001b[0;36m0\u001b[0m\u001b[0;34m,\u001b[0m \u001b[0mheader\u001b[0m \u001b[0;34m=\u001b[0m \u001b[0mTrue\u001b[0m\u001b[0;34m)\u001b[0m\u001b[0;34m\u001b[0m\u001b[0m\n\u001b[0m\u001b[1;32m     34\u001b[0m                         \u001b[0mcnoise\u001b[0m\u001b[0;34m,\u001b[0m \u001b[0mnhd\u001b[0m \u001b[0;34m=\u001b[0m \u001b[0mfits\u001b[0m\u001b[0;34m.\u001b[0m\u001b[0mgetdata\u001b[0m\u001b[0;34m(\u001b[0m\u001b[0mfile_noise\u001b[0m\u001b[0;34m,\u001b[0m \u001b[0;36m0\u001b[0m\u001b[0;34m,\u001b[0m \u001b[0mheader\u001b[0m \u001b[0;34m=\u001b[0m \u001b[0mTrue\u001b[0m\u001b[0;34m)\u001b[0m\u001b[0;34m\u001b[0m\u001b[0m\n\u001b[1;32m     35\u001b[0m \u001b[0;34m\u001b[0m\u001b[0m\n",
      "\u001b[0;32m/home/marcoviero/miniconda2/lib/python2.7/site-packages/astropy/io/fits/convenience.pyc\u001b[0m in \u001b[0;36mgetdata\u001b[0;34m(filename, *args, **kwargs)\u001b[0m\n\u001b[1;32m    199\u001b[0m     \u001b[0mview\u001b[0m \u001b[0;34m=\u001b[0m \u001b[0mkwargs\u001b[0m\u001b[0;34m.\u001b[0m\u001b[0mpop\u001b[0m\u001b[0;34m(\u001b[0m\u001b[0;34m'view'\u001b[0m\u001b[0;34m,\u001b[0m \u001b[0mNone\u001b[0m\u001b[0;34m)\u001b[0m\u001b[0;34m\u001b[0m\u001b[0m\n\u001b[1;32m    200\u001b[0m \u001b[0;34m\u001b[0m\u001b[0m\n\u001b[0;32m--> 201\u001b[0;31m     \u001b[0mhdulist\u001b[0m\u001b[0;34m,\u001b[0m \u001b[0mextidx\u001b[0m \u001b[0;34m=\u001b[0m \u001b[0m_getext\u001b[0m\u001b[0;34m(\u001b[0m\u001b[0mfilename\u001b[0m\u001b[0;34m,\u001b[0m \u001b[0mmode\u001b[0m\u001b[0;34m,\u001b[0m \u001b[0;34m*\u001b[0m\u001b[0margs\u001b[0m\u001b[0;34m,\u001b[0m \u001b[0;34m**\u001b[0m\u001b[0mkwargs\u001b[0m\u001b[0;34m)\u001b[0m\u001b[0;34m\u001b[0m\u001b[0m\n\u001b[0m\u001b[1;32m    202\u001b[0m     \u001b[0;32mtry\u001b[0m\u001b[0;34m:\u001b[0m\u001b[0;34m\u001b[0m\u001b[0m\n\u001b[1;32m    203\u001b[0m         \u001b[0mhdu\u001b[0m \u001b[0;34m=\u001b[0m \u001b[0mhdulist\u001b[0m\u001b[0;34m[\u001b[0m\u001b[0mextidx\u001b[0m\u001b[0;34m]\u001b[0m\u001b[0;34m\u001b[0m\u001b[0m\n",
      "\u001b[0;32m/home/marcoviero/miniconda2/lib/python2.7/site-packages/astropy/io/fits/convenience.pyc\u001b[0m in \u001b[0;36m_getext\u001b[0;34m(filename, mode, *args, **kwargs)\u001b[0m\n\u001b[1;32m    887\u001b[0m         \u001b[0;32mraise\u001b[0m \u001b[0mTypeError\u001b[0m\u001b[0;34m(\u001b[0m\u001b[0;34m'extver alone cannot specify an extension.'\u001b[0m\u001b[0;34m)\u001b[0m\u001b[0;34m\u001b[0m\u001b[0m\n\u001b[1;32m    888\u001b[0m \u001b[0;34m\u001b[0m\u001b[0m\n\u001b[0;32m--> 889\u001b[0;31m     \u001b[0mhdulist\u001b[0m \u001b[0;34m=\u001b[0m \u001b[0mfitsopen\u001b[0m\u001b[0;34m(\u001b[0m\u001b[0mfilename\u001b[0m\u001b[0;34m,\u001b[0m \u001b[0mmode\u001b[0m\u001b[0;34m=\u001b[0m\u001b[0mmode\u001b[0m\u001b[0;34m,\u001b[0m \u001b[0;34m**\u001b[0m\u001b[0mkwargs\u001b[0m\u001b[0;34m)\u001b[0m\u001b[0;34m\u001b[0m\u001b[0m\n\u001b[0m\u001b[1;32m    890\u001b[0m \u001b[0;34m\u001b[0m\u001b[0m\n\u001b[1;32m    891\u001b[0m     \u001b[0;32mreturn\u001b[0m \u001b[0mhdulist\u001b[0m\u001b[0;34m,\u001b[0m \u001b[0mext\u001b[0m\u001b[0;34m\u001b[0m\u001b[0m\n",
      "\u001b[0;32m/home/marcoviero/miniconda2/lib/python2.7/site-packages/astropy/io/fits/hdu/hdulist.pyc\u001b[0m in \u001b[0;36mfitsopen\u001b[0;34m(name, mode, memmap, save_backup, cache, lazy_load_hdus, **kwargs)\u001b[0m\n\u001b[1;32m    164\u001b[0m \u001b[0;34m\u001b[0m\u001b[0m\n\u001b[1;32m    165\u001b[0m     return HDUList.fromfile(name, mode, memmap, save_backup, cache,\n\u001b[0;32m--> 166\u001b[0;31m                             lazy_load_hdus, **kwargs)\n\u001b[0m\u001b[1;32m    167\u001b[0m \u001b[0;34m\u001b[0m\u001b[0m\n\u001b[1;32m    168\u001b[0m \u001b[0;34m\u001b[0m\u001b[0m\n",
      "\u001b[0;32m/home/marcoviero/miniconda2/lib/python2.7/site-packages/astropy/io/fits/hdu/hdulist.pyc\u001b[0m in \u001b[0;36mfromfile\u001b[0;34m(cls, fileobj, mode, memmap, save_backup, cache, lazy_load_hdus, **kwargs)\u001b[0m\n\u001b[1;32m    402\u001b[0m         return cls._readfrom(fileobj=fileobj, mode=mode, memmap=memmap,\n\u001b[1;32m    403\u001b[0m                              \u001b[0msave_backup\u001b[0m\u001b[0;34m=\u001b[0m\u001b[0msave_backup\u001b[0m\u001b[0;34m,\u001b[0m \u001b[0mcache\u001b[0m\u001b[0;34m=\u001b[0m\u001b[0mcache\u001b[0m\u001b[0;34m,\u001b[0m\u001b[0;34m\u001b[0m\u001b[0m\n\u001b[0;32m--> 404\u001b[0;31m                              lazy_load_hdus=lazy_load_hdus, **kwargs)\n\u001b[0m\u001b[1;32m    405\u001b[0m \u001b[0;34m\u001b[0m\u001b[0m\n\u001b[1;32m    406\u001b[0m     \u001b[0;34m@\u001b[0m\u001b[0mclassmethod\u001b[0m\u001b[0;34m\u001b[0m\u001b[0m\n",
      "\u001b[0;32m/home/marcoviero/miniconda2/lib/python2.7/site-packages/astropy/io/fits/hdu/hdulist.pyc\u001b[0m in \u001b[0;36m_readfrom\u001b[0;34m(cls, fileobj, data, mode, memmap, save_backup, cache, lazy_load_hdus, **kwargs)\u001b[0m\n\u001b[1;32m   1013\u001b[0m             \u001b[0;32mif\u001b[0m \u001b[0;32mnot\u001b[0m \u001b[0misinstance\u001b[0m\u001b[0;34m(\u001b[0m\u001b[0mfileobj\u001b[0m\u001b[0;34m,\u001b[0m \u001b[0m_File\u001b[0m\u001b[0;34m)\u001b[0m\u001b[0;34m:\u001b[0m\u001b[0;34m\u001b[0m\u001b[0m\n\u001b[1;32m   1014\u001b[0m                 \u001b[0;31m# instantiate a FITS file object (ffo)\u001b[0m\u001b[0;34m\u001b[0m\u001b[0;34m\u001b[0m\u001b[0m\n\u001b[0;32m-> 1015\u001b[0;31m                 \u001b[0mfileobj\u001b[0m \u001b[0;34m=\u001b[0m \u001b[0m_File\u001b[0m\u001b[0;34m(\u001b[0m\u001b[0mfileobj\u001b[0m\u001b[0;34m,\u001b[0m \u001b[0mmode\u001b[0m\u001b[0;34m=\u001b[0m\u001b[0mmode\u001b[0m\u001b[0;34m,\u001b[0m \u001b[0mmemmap\u001b[0m\u001b[0;34m=\u001b[0m\u001b[0mmemmap\u001b[0m\u001b[0;34m,\u001b[0m \u001b[0mcache\u001b[0m\u001b[0;34m=\u001b[0m\u001b[0mcache\u001b[0m\u001b[0;34m)\u001b[0m\u001b[0;34m\u001b[0m\u001b[0m\n\u001b[0m\u001b[1;32m   1016\u001b[0m             \u001b[0;31m# The pyfits mode is determined by the _File initializer if the\u001b[0m\u001b[0;34m\u001b[0m\u001b[0;34m\u001b[0m\u001b[0m\n\u001b[1;32m   1017\u001b[0m             \u001b[0;31m# supplied mode was None\u001b[0m\u001b[0;34m\u001b[0m\u001b[0;34m\u001b[0m\u001b[0m\n",
      "\u001b[0;32m/home/marcoviero/miniconda2/lib/python2.7/site-packages/astropy/utils/decorators.pyc\u001b[0m in \u001b[0;36mwrapper\u001b[0;34m(*args, **kwargs)\u001b[0m\n\u001b[1;32m    491\u001b[0m                         \u001b[0;31m# one with the name of the new argument to the function\u001b[0m\u001b[0;34m\u001b[0m\u001b[0;34m\u001b[0m\u001b[0m\n\u001b[1;32m    492\u001b[0m                         \u001b[0mkwargs\u001b[0m\u001b[0;34m[\u001b[0m\u001b[0mnew_name\u001b[0m\u001b[0;34m[\u001b[0m\u001b[0mi\u001b[0m\u001b[0;34m]\u001b[0m\u001b[0;34m]\u001b[0m \u001b[0;34m=\u001b[0m \u001b[0mvalue\u001b[0m\u001b[0;34m\u001b[0m\u001b[0m\n\u001b[0;32m--> 493\u001b[0;31m             \u001b[0;32mreturn\u001b[0m \u001b[0mfunction\u001b[0m\u001b[0;34m(\u001b[0m\u001b[0;34m*\u001b[0m\u001b[0margs\u001b[0m\u001b[0;34m,\u001b[0m \u001b[0;34m**\u001b[0m\u001b[0mkwargs\u001b[0m\u001b[0;34m)\u001b[0m\u001b[0;34m\u001b[0m\u001b[0m\n\u001b[0m\u001b[1;32m    494\u001b[0m \u001b[0;34m\u001b[0m\u001b[0m\n\u001b[1;32m    495\u001b[0m         \u001b[0;32mreturn\u001b[0m \u001b[0mwrapper\u001b[0m\u001b[0;34m\u001b[0m\u001b[0m\n",
      "\u001b[0;32m/home/marcoviero/miniconda2/lib/python2.7/site-packages/astropy/io/fits/file.pyc\u001b[0m in \u001b[0;36m__init__\u001b[0;34m(self, fileobj, mode, memmap, overwrite, cache)\u001b[0m\n\u001b[1;32m    142\u001b[0m             \u001b[0mself\u001b[0m\u001b[0;34m.\u001b[0m\u001b[0m_open_fileobj\u001b[0m\u001b[0;34m(\u001b[0m\u001b[0mfileobj\u001b[0m\u001b[0;34m,\u001b[0m \u001b[0mmode\u001b[0m\u001b[0;34m,\u001b[0m \u001b[0moverwrite\u001b[0m\u001b[0;34m)\u001b[0m\u001b[0;34m\u001b[0m\u001b[0m\n\u001b[1;32m    143\u001b[0m         \u001b[0;32melif\u001b[0m \u001b[0misinstance\u001b[0m\u001b[0;34m(\u001b[0m\u001b[0mfileobj\u001b[0m\u001b[0;34m,\u001b[0m \u001b[0mstring_types\u001b[0m\u001b[0;34m)\u001b[0m\u001b[0;34m:\u001b[0m\u001b[0;34m\u001b[0m\u001b[0m\n\u001b[0;32m--> 144\u001b[0;31m             \u001b[0mself\u001b[0m\u001b[0;34m.\u001b[0m\u001b[0m_open_filename\u001b[0m\u001b[0;34m(\u001b[0m\u001b[0mfileobj\u001b[0m\u001b[0;34m,\u001b[0m \u001b[0mmode\u001b[0m\u001b[0;34m,\u001b[0m \u001b[0moverwrite\u001b[0m\u001b[0;34m)\u001b[0m\u001b[0;34m\u001b[0m\u001b[0m\n\u001b[0m\u001b[1;32m    145\u001b[0m         \u001b[0;32melse\u001b[0m\u001b[0;34m:\u001b[0m\u001b[0;34m\u001b[0m\u001b[0m\n\u001b[1;32m    146\u001b[0m             \u001b[0mself\u001b[0m\u001b[0;34m.\u001b[0m\u001b[0m_open_filelike\u001b[0m\u001b[0;34m(\u001b[0m\u001b[0mfileobj\u001b[0m\u001b[0;34m,\u001b[0m \u001b[0mmode\u001b[0m\u001b[0;34m,\u001b[0m \u001b[0moverwrite\u001b[0m\u001b[0;34m)\u001b[0m\u001b[0;34m\u001b[0m\u001b[0m\n",
      "\u001b[0;32m/home/marcoviero/miniconda2/lib/python2.7/site-packages/astropy/io/fits/file.pyc\u001b[0m in \u001b[0;36m_open_filename\u001b[0;34m(self, filename, mode, overwrite)\u001b[0m\n\u001b[1;32m    497\u001b[0m             \u001b[0mself\u001b[0m\u001b[0;34m.\u001b[0m\u001b[0m_file\u001b[0m \u001b[0;34m=\u001b[0m \u001b[0mbz2\u001b[0m\u001b[0;34m.\u001b[0m\u001b[0mBZ2File\u001b[0m\u001b[0;34m(\u001b[0m\u001b[0mself\u001b[0m\u001b[0;34m.\u001b[0m\u001b[0mname\u001b[0m\u001b[0;34m,\u001b[0m \u001b[0mbzip2_mode\u001b[0m\u001b[0;34m)\u001b[0m\u001b[0;34m\u001b[0m\u001b[0m\n\u001b[1;32m    498\u001b[0m         \u001b[0;32melse\u001b[0m\u001b[0;34m:\u001b[0m\u001b[0;34m\u001b[0m\u001b[0m\n\u001b[0;32m--> 499\u001b[0;31m             \u001b[0mself\u001b[0m\u001b[0;34m.\u001b[0m\u001b[0m_file\u001b[0m \u001b[0;34m=\u001b[0m \u001b[0mfileobj_open\u001b[0m\u001b[0;34m(\u001b[0m\u001b[0mself\u001b[0m\u001b[0;34m.\u001b[0m\u001b[0mname\u001b[0m\u001b[0;34m,\u001b[0m \u001b[0mIO_FITS_MODES\u001b[0m\u001b[0;34m[\u001b[0m\u001b[0mmode\u001b[0m\u001b[0;34m]\u001b[0m\u001b[0;34m)\u001b[0m\u001b[0;34m\u001b[0m\u001b[0m\n\u001b[0m\u001b[1;32m    500\u001b[0m \u001b[0;34m\u001b[0m\u001b[0m\n\u001b[1;32m    501\u001b[0m         \u001b[0;31m# Make certain we're back at the beginning of the file\u001b[0m\u001b[0;34m\u001b[0m\u001b[0;34m\u001b[0m\u001b[0m\n",
      "\u001b[0;32m/home/marcoviero/miniconda2/lib/python2.7/site-packages/astropy/io/fits/util.pyc\u001b[0m in \u001b[0;36mfileobj_open\u001b[0;34m(filename, mode)\u001b[0m\n\u001b[1;32m    391\u001b[0m         \"\"\"\n\u001b[1;32m    392\u001b[0m \u001b[0;34m\u001b[0m\u001b[0m\n\u001b[0;32m--> 393\u001b[0;31m         \u001b[0;32mreturn\u001b[0m \u001b[0mopen\u001b[0m\u001b[0;34m(\u001b[0m\u001b[0mfilename\u001b[0m\u001b[0;34m,\u001b[0m \u001b[0mmode\u001b[0m\u001b[0;34m)\u001b[0m\u001b[0;34m\u001b[0m\u001b[0m\n\u001b[0m\u001b[1;32m    394\u001b[0m \u001b[0;32melse\u001b[0m\u001b[0;34m:\u001b[0m\u001b[0;34m\u001b[0m\u001b[0m\n\u001b[1;32m    395\u001b[0m     \u001b[0;32mdef\u001b[0m \u001b[0mfileobj_open\u001b[0m\u001b[0;34m(\u001b[0m\u001b[0mfilename\u001b[0m\u001b[0;34m,\u001b[0m \u001b[0mmode\u001b[0m\u001b[0;34m)\u001b[0m\u001b[0;34m:\u001b[0m\u001b[0;34m\u001b[0m\u001b[0m\n",
      "\u001b[0;31mIOError\u001b[0m: [Errno 2] No such file or directory: '/home/agn/viero/Jason/cosmos/pep_COSMOS_red_Map.DR1.sci.cutout.fits'"
     ]
    }
   ],
   "source": [
    "sky_library={}\n",
    "\n",
    "for t in indstack[0]:\n",
    "    sky_library[library_keys[t]] = Skymaps(maps[t],noises[t],efwhm[t],color_correction=color_correction[t])\n",
    "    sky_library[library_keys[t]].add_wavelength(wavelength[t])\n",
    "    sky_library[library_keys[t]].add_fwhm(efwhm[t]) \n",
    "    if beam_area[t] != 1: sky_library[library_keys[t]].beam_area_correction(beam_area[t])"
   ]
  },
  {
   "cell_type": "code",
   "execution_count": null,
   "metadata": {
    "collapsed": true
   },
   "outputs": [],
   "source": []
  },
  {
   "cell_type": "code",
   "execution_count": null,
   "metadata": {
    "collapsed": false
   },
   "outputs": [],
   "source": []
  },
  {
   "cell_type": "markdown",
   "metadata": {
    "collapsed": true
   },
   "source": [
    "## Catalog Directories and Names\n",
    "### Look for Maps below in www.astro.caltech.edu/viero/Jason/cosmos/"
   ]
  },
  {
   "cell_type": "code",
   "execution_count": 10,
   "metadata": {
    "collapsed": true
   },
   "outputs": [],
   "source": [
    "path_catalog = '/data/maps_cats_models/catalogs/UVISTA/'\n",
    "#Catalog must have the following (case sensitive) Columns:\n",
    "# - RA\n",
    "# - DEC\n",
    "# - z_peak\n",
    "# - LMASS\n",
    "# - rf_U_V\n",
    "# - rf_V_J\n",
    "#ALPHA_J2000,DELTA_J2000,ZPDF,ZPDF_L68,ZPDF_H68,CLASS,MASS_MED,MASS_MED_MIN68,MASS_MED_MAX68\n",
    "file_catalog = 'COSMOS2015_Laigle+_v1.1.csv'"
   ]
  },
  {
   "cell_type": "code",
   "execution_count": 11,
   "metadata": {
    "collapsed": false
   },
   "outputs": [],
   "source": [
    "tbl = pd.read_table(path_catalog+file_catalog,sep=',')\n",
    "tbl['ID']=range(len(tbl['ALPHA_J2000']))\n",
    "tbl['ra']=tbl['ALPHA_J2000']\n",
    "tbl['dec']=tbl['DELTA_J2000']\n",
    "tbl['z_peak']=tbl['ZPDF']\n",
    "tbl['sfg']=tbl['CLASS']\n",
    "tbl['LMASS']=tbl['MASS_MED']"
   ]
  },
  {
   "cell_type": "code",
   "execution_count": 12,
   "metadata": {
    "collapsed": false
   },
   "outputs": [
    {
     "data": {
      "text/plain": [
       "Index([u'ALPHA_J2000', u'DELTA_J2000', u'ZPDF', u'ZPDF_L68', u'ZPDF_H68',\n",
       "       u'CLASS', u'MASS_MED', u'MASS_MED_MIN68', u'MASS_MED_MAX68', u'ID',\n",
       "       u'ra', u'dec', u'z_peak', u'sfg', u'LMASS'],\n",
       "      dtype='object')"
      ]
     },
     "execution_count": 12,
     "metadata": {},
     "output_type": "execute_result"
    }
   ],
   "source": [
    "tbl.keys()"
   ]
  },
  {
   "cell_type": "code",
   "execution_count": 13,
   "metadata": {
    "collapsed": false
   },
   "outputs": [],
   "source": [
    "uVista = Field_catalogs(tbl)"
   ]
  },
  {
   "cell_type": "code",
   "execution_count": null,
   "metadata": {
    "collapsed": false,
    "scrolled": false
   },
   "outputs": [],
   "source": [
    "#Stack in redshift bins, with Layers divided by Stellar Mass and Star-Forming/Quiescent Galaxies\n",
    "pop = ['sf','qt']\n",
    "npop=2\n",
    "all_stacked_fluxes = np.zeros([nwv,nz,nm,npop])\n",
    "all_luminosity_temp = np.zeros([nz,nm,npop,2])\n",
    "\n",
    "for iz in range(nz):\n",
    "    zn = z_nodes[iz:iz+2]\n",
    "    uVista.get_sf_qt_mass_redshift_bins(zn,m_nodes)\n",
    "    radec_m_z_p = uVista.subset_positions(uVista.id_z_ms)\n",
    "    stacked_fluxes_  =  None\n",
    "    n_sources_max = None\n",
    "    \n",
    "    stacked_fluxes = stack_libraries_in_redshift_slices(\n",
    "        sky_library,\n",
    "        radec_m_z_p)\n",
    "    \n",
    "    #pdb.set_trace()\n",
    "    args = radec_m_z_p.keys()\n",
    "    for iwv in range(nwv):\n",
    "        stacked_fluxes_wv = stacked_fluxes[str(wavelength[indstack[0][iwv]])]\n",
    "        for j in range(nm):\n",
    "            for k in range(npop):\n",
    "                arg = 'z_'+str(zn[0])+'-'+str(zn[1])+'__m_'+str(m_nodes[j])+'-'+str(m_nodes[j+1])+'_'+pop[k]\n",
    "                all_stacked_fluxes[iwv,iz,j,k] = stacked_fluxes_wv[arg.replace('.','p').replace('-','_')].value\n",
    "    \n",
    "    #pdb.set_trace()\n",
    "    #PLOT\n",
    "    plt.figure()\n",
    "    plt.ylim([-1e-1,3e0])\n",
    "    plt.ylim([1e-2,9e1])\n",
    "    plt.xlim([20,510])\n",
    "    plt.xlim([20,1800])\n",
    "    plt.xlim([20,2500])\n",
    "    plt.yscale('log')\n",
    "    plt.ylabel('Flux Density [mJy]',fontsize=14)\n",
    "    plt.xlabel('Wavelength [microns]',fontsize=14)\n",
    "    ln=['','--']\n",
    "    for k in range(npop):\n",
    "        for j in range(nm)[::-1]: \n",
    "            arg = 'z_'+str(round(zn[0],3))+'-'+str(round(zn[1],3))+'__m_'+str(round(m_nodes[j],3))+'-'+str(round(m_nodes[j+1],3))+'_'+pop[k]\n",
    "            ng = len(radec_m_z_p[arg.replace('.','p').replace('-','_')][0])\n",
    "            plt.plot(np.array(wavelength)[indstack],1e3*all_stacked_fluxes[:,iz,j,k],ln[k],color=popcolor[npop*j+k],label=[str(ng)+' '+pop[k],str(m_mid[j])])\n",
    "            plt.legend()\n",
    "    plt.show()\n",
    "    #pdb.set_trace()"
   ]
  },
  {
   "cell_type": "code",
   "execution_count": null,
   "metadata": {
    "collapsed": false
   },
   "outputs": [],
   "source": [
    "def nghack(a):\n",
    "    b = a\n",
    "    for i in range(len(a)):\n",
    "        if a[i] < 0:\n",
    "            b[i] = 1e-5\n",
    "    return b"
   ]
  },
  {
   "cell_type": "code",
   "execution_count": null,
   "metadata": {
    "collapsed": false,
    "scrolled": false
   },
   "outputs": [],
   "source": [
    "for iwv in range(nwv):\n",
    "    plt.figure()\n",
    "    for j in range(nm):\n",
    "        plt.yscale('log')\n",
    "        plt.ylabel('Flux Density [mJy]',fontsize=14)\n",
    "        plt.xlabel('Redshift',fontsize=14)\n",
    "        plt.title('Star-Forming Galaxies, '+str(wavelength[indstack[0][iwv]]))\n",
    "        plt.plot(z_mid,1e3*nghack(all_stacked_fluxes[iwv,:,j,0]),'o')\n",
    "        plt.plot(z_mid,1e3*nghack(all_stacked_fluxes[iwv,:,j,0]))\n",
    "    plt.show()"
   ]
  },
  {
   "cell_type": "code",
   "execution_count": null,
   "metadata": {
    "collapsed": false,
    "scrolled": false
   },
   "outputs": [],
   "source": [
    "for iwv in range(nwv):\n",
    "    plt.figure()\n",
    "    for j in range(nm):\n",
    "        plt.yscale('log')\n",
    "        plt.ylabel('Flux Density [mJy]',fontsize=14)\n",
    "        plt.xlabel('Redshift',fontsize=14)\n",
    "        plt.title('Star-Forming Galaxies, '+str(wavelength[indstack[0][iwv]]))\n",
    "        plt.plot(z_mid,1e3*nghack(all_stacked_fluxes[iwv,:,j,0]),'o')\n",
    "        plt.plot(z_mid,1e3*nghack(all_stacked_fluxes[iwv,:,j,0]))\n",
    "    plt.show()"
   ]
  },
  {
   "cell_type": "code",
   "execution_count": null,
   "metadata": {
    "collapsed": false
   },
   "outputs": [],
   "source": [
    "for iwv in range(nwv):\n",
    "    plt.figure()\n",
    "    for j in range(nm):\n",
    "        plt.yscale('log')\n",
    "        plt.ylim([1e-2,9e1])\n",
    "        plt.ylabel('Flux Density [mJy]',fontsize=14)\n",
    "        plt.xlabel('Redshift',fontsize=14)\n",
    "        plt.title('Quiescent Galaxies, '+str(wavelength[indstack[0][iwv]]))\n",
    "        plt.plot(z_mid,1e3*(all_stacked_fluxes[iwv,:,j,1]),'o')\n",
    "        plt.plot(z_mid,1e3*(all_stacked_fluxes[iwv,:,j,1]))\n",
    "    plt.show()"
   ]
  },
  {
   "cell_type": "code",
   "execution_count": null,
   "metadata": {
    "collapsed": true
   },
   "outputs": [],
   "source": [
    "wvs = np.array(wavelength)[indstack]\n",
    "luminosities = np.zeros([nz,nm])\n",
    "temperatures = np.zeros([nz,nm])\n",
    "luminosity_dictionary = {}\n",
    "lumfit_dictionary = {}\n",
    "\n",
    "for iz in range(nz):\n",
    "    zn = z_nodes[iz:iz+2] \n",
    "    plt.ylim([9,14])\n",
    "    for j in range(nm)[::-1]:\n",
    "        flux_wv = (all_stacked_fluxes[:,iz,j,0] )   \n",
    "        m = fast_sed_fitter(wvs,flux_wv,covar=np.sqrt(abs(flux_wv)))\n",
    "        #sed = fast_sed(m, wvs)\n",
    "        L_mod = fast_Lir(m, np.mean(zn))\n",
    "        luminosities[iz,j] = L_mod.value\n",
    "        temperatures[iz,j] = m['T_observed'].value * np.mean(zn)\n",
    "        #print temperatures[iz,k] \n",
    "        \n",
    "for j in range(nm)[::-1]:\n",
    "    luminosity_dictionary['L_sed'+str(j)] = luminosities[:,j]\n",
    "    luminosity_dictionary['T_sed'+str(j)] = temperatures[:,j]\n",
    "        #print LIR.value\n",
    "        #plt.plot(np.mean(zn),np.log10(LIR.value),'o')\n",
    "    plt.plot(z_mid,np.log10(luminosity_dictionary['L_sed'+str(j)]))\n",
    "        #plt.yscale('log')\n",
    "        \n",
    "    plt.ylabel('Luminosity [L_star]',fontsize=14)\n",
    "    plt.xlabel('Redshift',fontsize=14)\n",
    "#plt.show()"
   ]
  },
  {
   "cell_type": "code",
   "execution_count": null,
   "metadata": {
    "collapsed": true
   },
   "outputs": [],
   "source": []
  }
 ],
 "metadata": {
  "kernelspec": {
   "display_name": "Python 2",
   "language": "python2",
   "name": "python2"
  },
  "language_info": {
   "codemirror_mode": {
    "name": "ipython",
    "version": 2
   },
   "file_extension": ".py",
   "mimetype": "text/x-python",
   "name": "python",
   "nbconvert_exporter": "python",
   "pygments_lexer": "ipython2",
   "version": "2.7.13"
  }
 },
 "nbformat": 4,
 "nbformat_minor": 0
}
